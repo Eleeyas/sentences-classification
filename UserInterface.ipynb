{
 "cells": [
  {
   "cell_type": "code",
   "execution_count": 2,
   "metadata": {},
   "outputs": [],
   "source": [
    "# import tkinter as tk\n",
    "# from IPython.display import clear_output\n",
    "# from classification import classification"
   ]
  },
  {
   "cell_type": "code",
   "execution_count": 8,
   "metadata": {},
   "outputs": [],
   "source": [
    "# H = 500  # กำหนดค่าตัวแปรความสูงหน้าต่างโปรแกรม\n",
    "# W = 800  # ตัวแปรความกว้าง\n",
    "\n",
    "# root = tk.Tk()\n",
    "\n",
    "# canvas = tk.Canvas(root, height=H, width=W)\n",
    "# frame = tk.Frame(root, bg='#80c1ff', bd=5)\n",
    "# frame.place(relx=0.5, rely=0.1, relwidth=0.75, relheight=0.1, anchor='n')\n",
    "\n",
    "# entry = tk.Entry(frame, font=('Courier', 18))\n",
    "# entry.place(relwidth=0.65, relheight=1)\n",
    "\n",
    "# button = tk.Button(frame, text='ตกลง', font=40, command=lambda: get_data(entry.get()))\n",
    "# button.place(relx=0.7, relwidth=0.3, relheight=1)\n",
    "\n",
    "# lower_frame = tk.Frame(root, bg= '#80c1ff', bd=5)\n",
    "# lower_frame.place(relx=0.5, rely=0.25, relwidth=0.75, relheight=0.6, anchor='n')\n",
    "\n",
    "# label = tk.Label(lower_frame, font=('Courier', 18), anchor='nw', justify='left')\n",
    "# label.place(relwidth=1, relheight=1)\n",
    "\n",
    "# def get_data(val):\n",
    "#     clear_output(wait=True)\n",
    "#     print (val)\n",
    "#     classify = classification(str(val))\n",
    "#     y_pred_nb, accuracy_nb = classify.naiveBayes()\n",
    "#     y_pred_svm, accuracy_svm = classify.supportVectorMachine()\n",
    "#     y_pred_knn, accuracy_knn = classify.KNearestNeighbors()\n",
    "#     out_put = 'Naive Bayes \\n target: %s \\n accuracy: %s \\nSupport Vector Machine \\n target: %s  \\n accuracy: %s \\nk-Nearest Neighbor \\n target: %s  \\n accuracy: %s \\n'%(str(y_pred_nb),str(accuracy_nb),str(y_pred_svm),str(accuracy_svm),str(y_pred_knn),str(accuracy_knn))\n",
    "#     print('predict  success')\n",
    "#     label['text'] = out_put\n",
    "\n",
    "# canvas.pack()\n",
    "# root.mainloop()"
   ]
  },
  {
   "cell_type": "code",
   "execution_count": 16,
   "metadata": {},
   "outputs": [],
   "source": [
    "from guizero import App, Box, Text, TextBox, PushButton\n",
    "from classification import classification\n",
    "app = App(title=\"Classification\")\n",
    "input_box = Box(app, width=\"fill\")\n",
    "button_box = Box(app)\n",
    "__blank_box = Box(app)\n",
    "output_box = Box(app)\n",
    "\n",
    "def get_data():\n",
    "    output.clear()\n",
    "    classify = classification(str(input.value))\n",
    "    y_pred_nb, accuracy_nb = classify.naiveBayes()\n",
    "    output.value = y_pred_nb\n",
    "# text1 = Text(box, text=\"Hello from the box\", size=14,  font=\"Arial\")\n",
    "# text2 = Text(app, text=\"Hello from the app\", size=14, font=\"Courier New\")\n",
    "input = TextBox(input_box, width=\"fill\", height=15, multiline=True, scrollbar=True)\n",
    "ok = PushButton(button_box, text=\"OK\", width=20, command=get_data)\n",
    "__blank = Text(__blank_box, text=\"\")\n",
    "output = Text(output_box, size=30, font=\"Courier New\")\n",
    "app.display()\n"
   ]
  },
  {
   "cell_type": "code",
   "execution_count": null,
   "metadata": {},
   "outputs": [],
   "source": []
  }
 ],
 "metadata": {
  "kernelspec": {
   "display_name": "Python 3",
   "language": "python",
   "name": "python3"
  },
  "language_info": {
   "codemirror_mode": {
    "name": "ipython",
    "version": 3
   },
   "file_extension": ".py",
   "mimetype": "text/x-python",
   "name": "python",
   "nbconvert_exporter": "python",
   "pygments_lexer": "ipython3",
   "version": "3.6.8"
  }
 },
 "nbformat": 4,
 "nbformat_minor": 4
}
